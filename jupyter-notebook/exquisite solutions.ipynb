{
 "cells": [
  {
   "cell_type": "markdown",
   "metadata": {},
   "source": [
    "# exquisite solutions"
   ]
  },
  {
   "cell_type": "markdown",
   "metadata": {},
   "source": [
    "### 1.有效的括号 \n",
    "判断一个字符串中的大，中，小括号是否合法：\n",
    "有效字符串需满足：\n",
    "- 左括号必须用相同类型的右括号闭合。\n",
    "- 左括号必须以正确的顺序闭合。  \n",
    "\n",
    "注意空字符串可被认为是有效字符串。比如\"( )\",\"( )[ ]\",\"( ( ( [ ] ) ) )\"都是合法的，但是\"( [ ) ]\"就是不合法的。  \n",
    "目前为止最好的解法就是堆栈，比如我们判断\"( ( [ ] ) )\"。思路就是压栈，然后从栈顶进行匹配，如果匹配成功比如左小括号遇到右小括号，则把压入栈的左小括号出栈，匹配成功,然后继续下一个。\n",
    "<img  src=\"Pictures/py1.png\" width=700,height=700>"
   ]
  },
  {
   "cell_type": "markdown",
   "metadata": {},
   "source": [
    "如果碰到\"( [ ) ]\",情况就不一样了，左小括号进栈，左中括号进栈，右小括号和栈顶进行匹对，发现不匹配则失败。"
   ]
  },
  {
   "cell_type": "markdown",
   "metadata": {},
   "source": [
    "<img  src=\"Pictures/py2.png\" width=700,height=700>"
   ]
  },
  {
   "cell_type": "code",
   "execution_count": 1,
   "metadata": {
    "collapsed": false
   },
   "outputs": [
    {
     "data": {
      "text/plain": [
       "False"
      ]
     },
     "execution_count": 1,
     "metadata": {},
     "output_type": "execute_result"
    }
   ],
   "source": [
    "def checkValid(s):\n",
    "    stack = []\n",
    "    #use right bracket as key\n",
    "    mapping = {')':'(',']':'[','}':'{'}\n",
    "    for c in s:\n",
    "        if c not in mapping:\n",
    "            stack.append(c)\n",
    "        elif not stack or mapping[c]!=stack.pop():\n",
    "            return False\n",
    "    return not stack\n",
    "checkValid('([)]')"
   ]
  },
  {
   "cell_type": "markdown",
   "metadata": {},
   "source": [
    "首先设计上 mapping 用右括号作为key,这样的好处是当你检查字符串中如果不是右括号(那必然是左括号）直接入栈，这样写非常简洁。  \n",
    "另外直接在elif 里面用stack.pop来循环抛出栈顶进行匹配。最绝是直接not stack返回。如果stack为空则成功，否则失败！"
   ]
  },
  {
   "cell_type": "markdown",
   "metadata": {},
   "source": [
    "### 2.遍历\n",
    "#### 遍历2个collection"
   ]
  },
  {
   "cell_type": "code",
   "execution_count": 4,
   "metadata": {
    "collapsed": false,
    "scrolled": true
   },
   "outputs": [
    {
     "name": "stdout",
     "output_type": "stream",
     "text": [
      "leo ---> red\n",
      "lili ---> green\n",
      "sam ---> blue\n",
      "['leo', 'lili', 'sam'] ---> red\n",
      "['leo', 'lili', 'sam'] ---> green\n",
      "['leo', 'lili', 'sam'] ---> blue\n"
     ]
    }
   ],
   "source": [
    "names = ['leo','lili','sam']\n",
    "colors = ['red','green','blue','yellow']\n",
    "\n",
    "#Bad \n",
    "n = min(len(names),len(colors))\n",
    "for i in range(n):\n",
    "    print(names[i],'--->',colors[i])\n",
    "\n",
    "#Better\n",
    "for name,color in zip(names,colors):\n",
    "    print(names,'--->',color)"
   ]
  },
  {
   "cell_type": "markdown",
   "metadata": {},
   "source": [
    "#### 遍历排序的序列"
   ]
  },
  {
   "cell_type": "code",
   "execution_count": 5,
   "metadata": {
    "collapsed": false
   },
   "outputs": [
    {
     "name": "stdout",
     "output_type": "stream",
     "text": [
      "blue\n",
      "green\n",
      "red\n",
      "yellow\n",
      "yellow\n",
      "red\n",
      "green\n",
      "blue\n"
     ]
    }
   ],
   "source": [
    "# Forward \n",
    "for color in sorted(colors):\n",
    "    print(color)\n",
    "    \n",
    "#Backward\n",
    "for color in sorted(colors,reverse=True):\n",
    "    print(color)"
   ]
  },
  {
   "cell_type": "markdown",
   "metadata": {},
   "source": [
    "#### 自定义排序"
   ]
  },
  {
   "cell_type": "code",
   "execution_count": 6,
   "metadata": {
    "collapsed": false
   },
   "outputs": [
    {
     "name": "stdout",
     "output_type": "stream",
     "text": [
      "['red', 'blue', 'green', 'yellow']\n"
     ]
    }
   ],
   "source": [
    "#自定义排序\n",
    "print(sorted(colors, key=len))"
   ]
  },
  {
   "cell_type": "markdown",
   "metadata": {},
   "source": [
    "sorted(iterable, cmp, key, reverse)  \n",
    "\n",
    "参数说明：\n",
    "- iterable -- 可迭代对象。  \n",
    "- cmp -- 比较的函数，这个具有两个参数，参数的值都是从可迭代对象中取出，此函数必须遵守的规则为，大于则返回1，小于则返回-1，等于则返回0。  \n",
    "- key -- 主要是用来进行比较的元素，只有一个参数，具体的函数的参数就是取自于可迭代对象中，指定可迭代对象中的一个元素来进行排序。  \n",
    "- reverse -- 排序规则，reverse = True 降序 ， reverse = False 升序（默认）。  "
   ]
  },
  {
   "cell_type": "markdown",
   "metadata": {},
   "source": [
    "#### 遍历文件遇到指定字符退出"
   ]
  },
  {
   "cell_type": "code",
   "execution_count": 8,
   "metadata": {
    "collapsed": false
   },
   "outputs": [
    {
     "ename": "NameError",
     "evalue": "name 'block' is not defined",
     "output_type": "error",
     "traceback": [
      "\u001b[0;31m---------------------------------------------------------------------------\u001b[0m",
      "\u001b[0;31mNameError\u001b[0m                                 Traceback (most recent call last)",
      "\u001b[0;32m<ipython-input-8-e65f3cedb2a6>\u001b[0m in \u001b[0;36m<module>\u001b[0;34m()\u001b[0m\n\u001b[1;32m      1\u001b[0m \u001b[1;31m#遇到指定字符时候退出\u001b[0m\u001b[1;33m\u001b[0m\u001b[1;33m\u001b[0m\u001b[0m\n\u001b[1;32m      2\u001b[0m \u001b[0mblocks\u001b[0m \u001b[1;33m=\u001b[0m \u001b[1;33m[\u001b[0m\u001b[1;33m]\u001b[0m\u001b[1;33m\u001b[0m\u001b[0m\n\u001b[0;32m----> 3\u001b[0;31m \u001b[1;32mif\u001b[0m \u001b[0mblock\u001b[0m \u001b[1;32min\u001b[0m \u001b[0miter\u001b[0m\u001b[1;33m(\u001b[0m\u001b[0mpartial\u001b[0m\u001b[1;33m(\u001b[0m\u001b[0mread\u001b[0m\u001b[1;33m,\u001b[0m\u001b[1;36m32\u001b[0m\u001b[1;33m)\u001b[0m\u001b[1;33m,\u001b[0m\u001b[1;34m''\u001b[0m\u001b[1;33m)\u001b[0m\u001b[1;33m:\u001b[0m\u001b[1;33m\u001b[0m\u001b[0m\n\u001b[0m\u001b[1;32m      4\u001b[0m     \u001b[0mblocks\u001b[0m\u001b[1;33m.\u001b[0m\u001b[0mappend\u001b[0m\u001b[1;33m(\u001b[0m\u001b[0mblock\u001b[0m\u001b[1;33m)\u001b[0m\u001b[1;33m\u001b[0m\u001b[0m\n",
      "\u001b[0;31mNameError\u001b[0m: name 'block' is not defined"
     ]
    }
   ],
   "source": [
    "blocks = []\n",
    "if block in iter(partial(read,32),''):\n",
    "    blocks.append(block)"
   ]
  },
  {
   "cell_type": "markdown",
   "metadata": {},
   "source": [
    "iter是一个内置函数用来生产迭代器，partial的不断的读入文件中32字节，注意iter引入第二个参数，表示当读入的内容是''的时候，会触发生成器stop！"
   ]
  },
  {
   "cell_type": "markdown",
   "metadata": {},
   "source": [
    "#### 函数遍历多出口问题\n",
    "for else 的用法要适应"
   ]
  },
  {
   "cell_type": "code",
   "execution_count": null,
   "metadata": {
    "collapsed": true
   },
   "outputs": [],
   "source": [
    "#Bad\n",
    "def find(seq,target):\n",
    "    found = False\n",
    "    for i,value in enumerate(seq):\n",
    "        if value == target:\n",
    "            found = True\n",
    "            break\n",
    "            \n",
    "    if not found:\n",
    "        return -1\n",
    "    \n",
    "    return i\n",
    "\n",
    "#Better\n",
    "def find(seq,target):\n",
    "    for i,value in enumerate(seq):\n",
    "        if value == target:\n",
    "            break\n",
    "    else:\n",
    "        return -1\n",
    "    return i"
   ]
  },
  {
   "cell_type": "markdown",
   "metadata": {},
   "source": [
    "#### 字典的统计"
   ]
  },
  {
   "cell_type": "code",
   "execution_count": 9,
   "metadata": {
    "collapsed": false
   },
   "outputs": [
    {
     "name": "stdout",
     "output_type": "stream",
     "text": [
      "{'red': 3, 'green': 2, 'blue': 1}\n"
     ]
    }
   ],
   "source": [
    "colors = ['red','green','red','blue','green','red']\n",
    "d = {}\n",
    "#bad\n",
    "for color in colors:\n",
    "    if color not in d:\n",
    "        d[color] = 0\n",
    "    d[color] += 1\n",
    "print (d)\n",
    "\n",
    "#Better\n",
    "for color in colors:\n",
    "    d[color]=d.get(color,0) + 1"
   ]
  },
  {
   "cell_type": "markdown",
   "metadata": {},
   "source": [
    "#### 字典的统计"
   ]
  },
  {
   "cell_type": "code",
   "execution_count": 11,
   "metadata": {
    "collapsed": false
   },
   "outputs": [
    {
     "name": "stdout",
     "output_type": "stream",
     "text": [
      "3 leo\n",
      "3 sam\n",
      "4 jack\n",
      "5 peter\n",
      "3 Joe\n",
      "8 susuanna\n",
      "{3: ['leo', 'sam', 'Joe'], 4: ['jack'], 5: ['peter'], 8: ['susuanna']}\n",
      "defaultdict(<class 'list'>, {3: ['leo', 'sam', 'Joe'], 4: ['jack'], 5: ['peter'], 8: ['susuanna']})\n"
     ]
    }
   ],
   "source": [
    "names=['leo','sam','jack','peter','Joe','susuanna']\n",
    "#比如按照名字的长度排序\n",
    "nums = [len(n) for n in names]\n",
    "contain={}\n",
    "for k1,k2 in zip(nums,names):\n",
    "    print(k1,k2)\n",
    "    if k1 not in contain:\n",
    "        contain[k1]=[k2]\n",
    "    else:\n",
    "        contain[k1].append(k2)\n",
    "print (contain)\n",
    "\n",
    "#Better\n",
    "from collections import defaultdict\n",
    "d = defaultdict(list)\n",
    "for name in names:\n",
    "    key = len(name)\n",
    "    d[key].append(name)\n",
    "print(d)"
   ]
  },
  {
   "cell_type": "code",
   "execution_count": null,
   "metadata": {
    "collapsed": true
   },
   "outputs": [],
   "source": []
  },
  {
   "cell_type": "code",
   "execution_count": null,
   "metadata": {
    "collapsed": true
   },
   "outputs": [],
   "source": []
  }
 ],
 "metadata": {
  "kernelspec": {
   "display_name": "Python 3",
   "language": "python",
   "name": "python3"
  },
  "language_info": {
   "codemirror_mode": {
    "name": "ipython",
    "version": 3
   },
   "file_extension": ".py",
   "mimetype": "text/x-python",
   "name": "python",
   "nbconvert_exporter": "python",
   "pygments_lexer": "ipython3",
   "version": "3.6.0"
  }
 },
 "nbformat": 4,
 "nbformat_minor": 2
}
