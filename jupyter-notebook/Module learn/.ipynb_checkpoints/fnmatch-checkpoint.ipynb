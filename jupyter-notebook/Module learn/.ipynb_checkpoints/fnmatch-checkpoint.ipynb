{
 "cells": [
  {
   "cell_type": "markdown",
   "metadata": {},
   "source": [
    "## fnmatch\n",
    "unix 下文件名匹配，有四种模式：\n",
    "- fnmatch\n",
    "- fnmatchcase\n",
    "- filter\n",
    "- translate"
   ]
  },
  {
   "cell_type": "markdown",
   "metadata": {},
   "source": [
    "### 1.fnmatch\n",
    "> **fnmatch.fnmatch(filename, pattern)**  \n",
    "测试filename，是否符合pattern。"
   ]
  },
  {
   "cell_type": "code",
   "execution_count": null,
   "metadata": {
    "collapsed": true
   },
   "outputs": [],
   "source": [
    "import fnmatch\n",
    "import os\n",
    "def run():\n",
    "  for file in os.listdir('.'): #os.listdir返回指定的文件夹包含的文件或文件夹的名字的列表\n",
    "        if fnmatch.fnmatch(file, '*.py'): #判断是否有后缀为.py的文件，*代表文件名长度格式不限制。\n",
    "           print(file)\n",
    "if __name__ == '__main__':\n",
    "    run()"
   ]
  },
  {
   "cell_type": "markdown",
   "metadata": {},
   "source": [
    "### 2.fnmatchcase\n",
    ">**fnmatch.fnmatchcase(filename, pattern)**  \n",
    "和fnmatch()类似，只是fnmatchcase 强制区分大小写匹配，不管文件系统是否区分。"
   ]
  },
  {
   "cell_type": "code",
   "execution_count": null,
   "metadata": {
    "collapsed": true
   },
   "outputs": [],
   "source": [
    "  print(fnmatch.fnmatchcase(\"text.py\",\"text.*\"))  #True\n",
    "  print(fnmatch.fnmatchcase(\"Text.py\", \"text.*\"))  # False\n",
    "  print(fnmatch.fnmatchcase(\"Text.Py\", \"*.py\"))  # False\n",
    "  print(fnmatch.fnmatchcase(\"Text.Py\", \"*.Py\"))  # True"
   ]
  },
  {
   "cell_type": "markdown",
   "metadata": {},
   "source": [
    "### 3.filter\n",
    ">**fnmatch.filter(names, pattern)**  \n",
    "实现列表特殊字符的过滤或筛选,返回符合匹配模式的字符列表,它的作用类似\n",
    "[n for n in names if fnmatch(n, pattern)]"
   ]
  },
  {
   "cell_type": "code",
   "execution_count": null,
   "metadata": {
    "collapsed": true
   },
   "outputs": [],
   "source": [
    "  filelist=[\"a.text\",\"b.jpg\",\"c.png\",\"d.py\",'e.text',\"sss.py\"]\n",
    "  print(fnmatch.filter(filelist,\"?.py\")) #匹配前面是一个字符的.py文件\n",
    "  输出:d.py"
   ]
  },
  {
   "cell_type": "markdown",
   "metadata": {},
   "source": [
    "### 4.translate\n",
    ">**fnmatch.translate(pattern):**  \n",
    "翻译模式, fnmatch将这种全局模式转换成一个正则式, 然后使用re模块来比较名字和模式。 translate() 函数是一个公共API用于将全局模式转换成正则式"
   ]
  },
  {
   "cell_type": "code",
   "execution_count": null,
   "metadata": {
    "collapsed": true
   },
   "outputs": [],
   "source": [
    "regex = fnmatch.translate('[f,d,d,d,g,h].txt')#将[f,d,d,d,g,h].txt转为正则匹配的模式\n",
    "print(\"regex\",regex)#(?s:[f,d,d,d,g,h]\\.txt)\\Z\n",
    "#\\Z:匹配字符串结束，如果是存在换行，只匹配到换行前的结束字符串。\n",
    "reobj = re.compile(regex)#生成re匹配模块\n",
    "print(reobj.match ('f.txt'))#返回一个匹配对象\n",
    "#<_sre.SRE_Match object; span=(0, 5), match='f.txt'>"
   ]
  }
 ],
 "metadata": {
  "kernelspec": {
   "display_name": "Python 3",
   "language": "python",
   "name": "python3"
  },
  "language_info": {
   "codemirror_mode": {
    "name": "ipython",
    "version": 3
   },
   "file_extension": ".py",
   "mimetype": "text/x-python",
   "name": "python",
   "nbconvert_exporter": "python",
   "pygments_lexer": "ipython3",
   "version": "3.6.0"
  }
 },
 "nbformat": 4,
 "nbformat_minor": 2
}
