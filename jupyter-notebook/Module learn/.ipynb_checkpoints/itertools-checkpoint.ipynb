{
 "cells": [
  {
   "cell_type": "markdown",
   "metadata": {},
   "source": [
    "## itertools：强大的迭代处理器，生成器\n",
    "\n",
    ">内置iterator主要分为三种：\n",
    "1. **Infinite iterators:**\n",
    " - count()\n",
    " - cycle()\n",
    " - repeat()\n",
    "2. **Iterators terminating on the shortest input sequence:**\n",
    " - accumulate()\n",
    " - chain()\n",
    " - compress()\n",
    " - dropwhile()\n",
    " - filterfalse()\n",
    " - groupby()\n",
    " - islice()\n",
    " - zip_longest()\n",
    " - tee()\n",
    " - takewhile()\n",
    " - starmap()\n",
    "3. **Combinatoric iterators:**\n",
    " - permutations()\n",
    " - combinations()\n",
    " - combinations_with_replacement()\n",
    " - product()\n",
    " \n",
    " 下面按照顺序介绍："
   ]
  },
  {
   "cell_type": "markdown",
   "metadata": {},
   "source": [
    "### 1. **Infinite iterators:**\n",
    "一般放在循环中，因为会产生无限的结果，必须手动终止。"
   ]
  },
  {
   "cell_type": "markdown",
   "metadata": {},
   "source": [
    "##### 1.1 itertools.count(start=0, step=1)\n",
    "  从start开始，按照step一直计数，此函数内部实现方式类似于："
   ]
  },
  {
   "cell_type": "code",
   "execution_count": null,
   "metadata": {
    "collapsed": true
   },
   "outputs": [],
   "source": [
    "def count(start=0, step=1):\n",
    "    # count(10) --> 10 11 12 13 14 ...\n",
    "    # count(2.5, 0.5) -> 2.5 3.0 3.5 ...\n",
    "    n = start\n",
    "    while True:\n",
    "        yield n\n",
    "        n += step"
   ]
  },
  {
   "cell_type": "markdown",
   "metadata": {},
   "source": [
    "##### 1.2 itertools.cycle(iterable)\n",
    "  一直循环产生iterable的结果"
   ]
  },
  {
   "cell_type": "code",
   "execution_count": null,
   "metadata": {
    "collapsed": true
   },
   "outputs": [],
   "source": [
    "def cycle(iterable):\n",
    "    # cycle('ABCD') --> A B C D A B C D A B C D ...\n",
    "    saved = []\n",
    "    for element in iterable:\n",
    "        yield element\n",
    "        saved.append(element)\n",
    "    while saved:\n",
    "        for element in saved:\n",
    "              yield element"
   ]
  },
  {
   "cell_type": "markdown",
   "metadata": {},
   "source": [
    "##### 1.3 itertools.repeat(object[, times])\n",
    "  重复一个元素times次："
   ]
  },
  {
   "cell_type": "code",
   "execution_count": null,
   "metadata": {
    "collapsed": true
   },
   "outputs": [],
   "source": [
    "def repeat(object, times=None):\n",
    "    # repeat(10, 3) --> 10 10 10\n",
    "    if times is None:\n",
    "        while True:\n",
    "            yield object\n",
    "    else:\n",
    "        for i in range(times):\n",
    "            yield object"
   ]
  },
  {
   "cell_type": "code",
   "execution_count": 2,
   "metadata": {
    "collapsed": false
   },
   "outputs": [
    {
     "data": {
      "text/plain": [
       "[0, 1, 4, 9, 16, 25, 36, 49, 64, 81]"
      ]
     },
     "execution_count": 2,
     "metadata": {},
     "output_type": "execute_result"
    }
   ],
   "source": [
    "from itertools import repeat\n",
    "list(map(pow, range(10), repeat(2)))\n",
    "#pow函数返回次方"
   ]
  },
  {
   "cell_type": "markdown",
   "metadata": {},
   "source": [
    "### 2. **Iterators terminating on the shortest input sequence:**"
   ]
  },
  {
   "cell_type": "markdown",
   "metadata": {},
   "source": [
    "###### 2.1 itertools.accumulate(iterable[, func])\n",
    "  对数据迭代操作，默认累加：\n",
    ">functools.reduce() for a similar function that returns only the final accumulated value."
   ]
  },
  {
   "cell_type": "code",
   "execution_count": 8,
   "metadata": {
    "collapsed": false
   },
   "outputs": [
    {
     "name": "stdout",
     "output_type": "stream",
     "text": [
      "[3, 12, 72, 144, 144, 1296, 0, 0, 0, 0]\n",
      "[3, 4, 6, 6, 6, 9, 9, 9, 9, 9]\n"
     ]
    }
   ],
   "source": [
    "import operator\n",
    "def accumulate(iterable, func=operator.add):\n",
    "    'Return running totals'\n",
    "    # accumulate([1,2,3,4,5]) --> 1 3 6 10 15\n",
    "    # accumulate([1,2,3,4,5], operator.mul) --> 1 2 6 24 120  累乘\n",
    "    it = iter(iterable)\n",
    "    try:\n",
    "        total = next(it)\n",
    "    except StopIteration:\n",
    "        return\n",
    "    yield total\n",
    "    for element in it:\n",
    "        total = func(total, element)\n",
    "        yield total\n",
    "\n",
    "data = [3, 4, 6, 2, 1, 9, 0, 7, 5, 8]\n",
    "print(list(accumulate(data, operator.mul)))     # running product\n",
    "print(list(accumulate(data, max)))             # running maximum"
   ]
  },
  {
   "cell_type": "markdown",
   "metadata": {},
   "source": [
    "##### 2.2 itertools.chain(*iterables)\n",
    "  连接两个可迭代对象"
   ]
  },
  {
   "cell_type": "code",
   "execution_count": 4,
   "metadata": {
    "collapsed": false
   },
   "outputs": [
    {
     "data": {
      "text/plain": [
       "['A', 'B', 'C', 'D', 'E', 'F']"
      ]
     },
     "execution_count": 4,
     "metadata": {},
     "output_type": "execute_result"
    }
   ],
   "source": [
    "def chain(*iterables):\n",
    "    # chain('ABC', 'DEF') --> A B C D E F\n",
    "    for it in iterables:\n",
    "        for element in it:\n",
    "            yield element\n",
    "list(chain('ABC', 'DEF'))"
   ]
  },
  {
   "cell_type": "markdown",
   "metadata": {},
   "source": [
    "##### 2.3 itertools.compress(data, selectors)\n",
    "  只选中逻辑值为TRUE的元素："
   ]
  },
  {
   "cell_type": "code",
   "execution_count": 5,
   "metadata": {
    "collapsed": false
   },
   "outputs": [
    {
     "data": {
      "text/plain": [
       "['A', 'C', 'E', 'F']"
      ]
     },
     "execution_count": 5,
     "metadata": {},
     "output_type": "execute_result"
    }
   ],
   "source": [
    "def compress(data, selectors):\n",
    "    # compress('ABCDEF', [1,0,1,0,1,1]) --> A C E F\n",
    "    return (d for d, s in zip(data, selectors) if s)\n",
    "\n",
    "list(compress('ABCDEF', [1,0,1,0,1,1]))"
   ]
  },
  {
   "cell_type": "markdown",
   "metadata": {},
   "source": [
    "##### 2.4 itertools.dropwhile(predicate, iterable)\n",
    "  过滤掉符合条件的元素，遇到第一个不满足条件的即停止，适用于去除文件开头符合某些条件的行："
   ]
  },
  {
   "cell_type": "code",
   "execution_count": 9,
   "metadata": {
    "collapsed": false
   },
   "outputs": [
    {
     "data": {
      "text/plain": [
       "[6, 4, 1]"
      ]
     },
     "execution_count": 9,
     "metadata": {},
     "output_type": "execute_result"
    }
   ],
   "source": [
    "def dropwhile(predicate, iterable):\n",
    "    # dropwhile(lambda x: x<5, [1,4,6,4,1]) --> 6 4 1\n",
    "    iterable = iter(iterable)\n",
    "    for x in iterable:\n",
    "        if not predicate(x):\n",
    "            yield x\n",
    "            break\n",
    "    for x in iterable:\n",
    "        yield x\n",
    "\n",
    "list(dropwhile(lambda x: x<5, [1,4,6,4,1]))"
   ]
  },
  {
   "cell_type": "markdown",
   "metadata": {},
   "source": [
    "##### 2.5 itertools.filterfalse(predicate, iterable)\n",
    "去除掉条件为false的元素："
   ]
  },
  {
   "cell_type": "code",
   "execution_count": 10,
   "metadata": {
    "collapsed": false
   },
   "outputs": [
    {
     "data": {
      "text/plain": [
       "[0, 2, 4, 6, 8]"
      ]
     },
     "execution_count": 10,
     "metadata": {},
     "output_type": "execute_result"
    }
   ],
   "source": [
    "def filterfalse(predicate, iterable):\n",
    "    # filterfalse(lambda x: x%2, range(10)) --> 0 2 4 6 8\n",
    "    if predicate is None:\n",
    "        predicate = bool\n",
    "    for x in iterable:\n",
    "        if not predicate(x):\n",
    "            yield x\n",
    "            \n",
    "list(filterfalse(lambda x: x%2, range(10)))"
   ]
  },
  {
   "cell_type": "markdown",
   "metadata": {},
   "source": [
    "##### 2.6 itertools.groupby(iterable, key=None)\n",
    "  按照key进行分组，类似于Unix下的uniq"
   ]
  },
  {
   "cell_type": "code",
   "execution_count": 11,
   "metadata": {
    "collapsed": false
   },
   "outputs": [
    {
     "name": "stdout",
     "output_type": "stream",
     "text": [
      "['A', 'B', 'C', 'D', 'A', 'B']\n",
      "[['A', 'A', 'A', 'A'], ['B', 'B', 'B'], ['C', 'C'], ['D']]\n"
     ]
    }
   ],
   "source": [
    "class groupby:\n",
    "    # [k for k, g in groupby('AAAABBBCCDAABBB')] --> A B C D A B\n",
    "    # [list(g) for k, g in groupby('AAAABBBCCD')] --> AAAA BBB CC D\n",
    "    def __init__(self, iterable, key=None):\n",
    "        if key is None:\n",
    "            key = lambda x: x\n",
    "        self.keyfunc = key\n",
    "        self.it = iter(iterable)\n",
    "        self.tgtkey = self.currkey = self.currvalue = object()\n",
    "    def __iter__(self):\n",
    "        return self\n",
    "    def __next__(self):\n",
    "        self.id = object()\n",
    "        while self.currkey == self.tgtkey:\n",
    "            self.currvalue = next(self.it)    # Exit on StopIteration\n",
    "            self.currkey = self.keyfunc(self.currvalue)\n",
    "        self.tgtkey = self.currkey\n",
    "        return (self.currkey, self._grouper(self.tgtkey, self.id))\n",
    "    def _grouper(self, tgtkey, id):\n",
    "        while self.id is id and self.currkey == tgtkey:\n",
    "            yield self.currvalue\n",
    "            try:\n",
    "                self.currvalue = next(self.it)\n",
    "            except StopIteration:\n",
    "                return\n",
    "            self.currkey = self.keyfunc(self.currvalue)\n",
    "\n",
    "print([k for k, g in groupby('AAAABBBCCDAABBB')] )\n",
    "print([list(g) for k, g in groupby('AAAABBBCCD')])"
   ]
  },
  {
   "cell_type": "code",
   "execution_count": null,
   "metadata": {
    "collapsed": true
   },
   "outputs": [],
   "source": [
    "groups = []\n",
    "uniquekeys = []\n",
    "data = sorted(data, key=keyfunc)\n",
    "for k, g in groupby(data, keyfunc):\n",
    "    groups.append(list(g))      # Store group iterator as a list\n",
    "    uniquekeys.append(k)"
   ]
  },
  {
   "cell_type": "markdown",
   "metadata": {},
   "source": [
    "##### 2.7 itertools.islice(iterable, start, stop[, step])\n",
    "  切片操作，不支持负数"
   ]
  },
  {
   "cell_type": "code",
   "execution_count": null,
   "metadata": {
    "collapsed": true
   },
   "outputs": [],
   "source": [
    "def islice(iterable, *args):\n",
    "    # islice('ABCDEFG', 2) --> A B\n",
    "    # islice('ABCDEFG', 2, 4) --> C D\n",
    "    # islice('ABCDEFG', 2, None) --> C D E F G\n",
    "    # islice('ABCDEFG', 0, None, 2) --> A C E G\n",
    "    s = slice(*args)\n",
    "    start, stop, step = s.start or 0, s.stop or sys.maxsize, s.step or 1\n",
    "    it = iter(range(start, stop, step))\n",
    "    try:\n",
    "        nexti = next(it)\n",
    "    except StopIteration:\n",
    "        # Consume *iterable* up to the *start* position.\n",
    "        for i, element in zip(range(start), iterable):\n",
    "            pass\n",
    "        return\n",
    "    try:\n",
    "        for i, element in enumerate(iterable):\n",
    "            if i == nexti:\n",
    "                yield element\n",
    "                nexti = next(it)\n",
    "    except StopIteration:\n",
    "        # Consume to *stop*.\n",
    "        for i, element in zip(range(i + 1, stop), iterable):\n",
    "            pass"
   ]
  },
  {
   "cell_type": "markdown",
   "metadata": {},
   "source": [
    "##### 2.8 itertools.zip_longest(*iterables, fillvalue=None)\n",
    "  使用最长的作为迭代对象"
   ]
  },
  {
   "cell_type": "code",
   "execution_count": null,
   "metadata": {
    "collapsed": true
   },
   "outputs": [],
   "source": [
    "def zip_longest(*args, fillvalue=None):\n",
    "    # zip_longest('ABCD', 'xy', fillvalue='-') --> Ax By C- D-\n",
    "    iterators = [iter(it) for it in args]\n",
    "    num_active = len(iterators)\n",
    "    if not num_active:\n",
    "        return\n",
    "    while True:\n",
    "        values = []\n",
    "        for i, it in enumerate(iterators):\n",
    "            try:\n",
    "                value = next(it)\n",
    "            except StopIteration:\n",
    "                num_active -= 1\n",
    "                if not num_active:\n",
    "                    return\n",
    "                iterators[i] = repeat(fillvalue)\n",
    "                value = fillvalue\n",
    "            values.append(value)\n",
    "        yield tuple(values)"
   ]
  },
  {
   "cell_type": "markdown",
   "metadata": {},
   "source": [
    "##### 2.9 itertools.tee(iterable, n=2)\n"
   ]
  },
  {
   "cell_type": "code",
   "execution_count": null,
   "metadata": {
    "collapsed": true
   },
   "outputs": [],
   "source": [
    "def tee(iterable, n=2):\n",
    "    it = iter(iterable)\n",
    "    deques = [collections.deque() for i in range(n)]\n",
    "    def gen(mydeque):\n",
    "        while True:\n",
    "            if not mydeque:             # when the local deque is empty\n",
    "                try:\n",
    "                    newval = next(it)   # fetch a new value and\n",
    "                except StopIteration:\n",
    "                    return\n",
    "                for d in deques:        # load it to all the deques\n",
    "                    d.append(newval)\n",
    "            yield mydeque.popleft()\n",
    "    return tuple(gen(d) for d in deques)"
   ]
  },
  {
   "cell_type": "markdown",
   "metadata": {},
   "source": [
    "##### 2.10 itertools.takewhile(predicate, iterable)\n",
    "  和dropwhile相反，遇到第一个false的时候结束"
   ]
  },
  {
   "cell_type": "code",
   "execution_count": 12,
   "metadata": {
    "collapsed": false
   },
   "outputs": [
    {
     "data": {
      "text/plain": [
       "[1, 4]"
      ]
     },
     "execution_count": 12,
     "metadata": {},
     "output_type": "execute_result"
    }
   ],
   "source": [
    "def takewhile(predicate, iterable):\n",
    "    # takewhile(lambda x: x<5, [1,4,6,4,1]) --> 1 4\n",
    "    for x in iterable:\n",
    "        if predicate(x):\n",
    "            yield x\n",
    "        else:\n",
    "            break\n",
    "\n",
    "list(takewhile(lambda x: x<5, [1,4,6,4,1]))"
   ]
  },
  {
   "cell_type": "markdown",
   "metadata": {},
   "source": [
    "##### 2.11 itertools.starmap(function, iterable)\n",
    "  可以map多个容器"
   ]
  },
  {
   "cell_type": "code",
   "execution_count": 13,
   "metadata": {
    "collapsed": false
   },
   "outputs": [
    {
     "data": {
      "text/plain": [
       "[32, 9, 1000]"
      ]
     },
     "execution_count": 13,
     "metadata": {},
     "output_type": "execute_result"
    }
   ],
   "source": [
    "def starmap(function, iterable):\n",
    "    # starmap(pow, [(2,5), (3,2), (10,3)]) --> 32 9 1000\n",
    "    for args in iterable:\n",
    "        yield function(*args)\n",
    "        \n",
    "list(starmap(pow, [(2,5), (3,2), (10,3)]))"
   ]
  },
  {
   "cell_type": "markdown",
   "metadata": {},
   "source": [
    "### 3.**Combinatoric iterators:**"
   ]
  },
  {
   "cell_type": "markdown",
   "metadata": {},
   "source": [
    "##### 3.1 itertools.permutations(iterable, r=None)\n",
    "  抽取排列"
   ]
  },
  {
   "cell_type": "code",
   "execution_count": 14,
   "metadata": {
    "collapsed": false
   },
   "outputs": [
    {
     "data": {
      "text/plain": [
       "[('A', 'B'),\n",
       " ('A', 'C'),\n",
       " ('A', 'D'),\n",
       " ('B', 'A'),\n",
       " ('B', 'C'),\n",
       " ('B', 'D'),\n",
       " ('C', 'A'),\n",
       " ('C', 'B'),\n",
       " ('C', 'D'),\n",
       " ('D', 'A'),\n",
       " ('D', 'B'),\n",
       " ('D', 'C')]"
      ]
     },
     "execution_count": 14,
     "metadata": {},
     "output_type": "execute_result"
    }
   ],
   "source": [
    "def permutations(iterable, r=None):\n",
    "    # permutations('ABCD', 2) --> AB AC AD BA BC BD CA CB CD DA DB DC\n",
    "    # permutations(range(3)) --> 012 021 102 120 201 210\n",
    "    pool = tuple(iterable)\n",
    "    n = len(pool)\n",
    "    r = n if r is None else r\n",
    "    if r > n:\n",
    "        return\n",
    "    indices = list(range(n))\n",
    "    cycles = list(range(n, n-r, -1))\n",
    "    yield tuple(pool[i] for i in indices[:r])\n",
    "    while n:\n",
    "        for i in reversed(range(r)):\n",
    "            cycles[i] -= 1\n",
    "            if cycles[i] == 0:\n",
    "                indices[i:] = indices[i+1:] + indices[i:i+1]\n",
    "                cycles[i] = n - i\n",
    "            else:\n",
    "                j = cycles[i]\n",
    "                indices[i], indices[-j] = indices[-j], indices[i]\n",
    "                yield tuple(pool[i] for i in indices[:r])\n",
    "                break\n",
    "        else:\n",
    "            return\n",
    "        \n",
    "list(permutations('ABCD', 2))"
   ]
  },
  {
   "cell_type": "markdown",
   "metadata": {},
   "source": [
    "##### 3.2 itertools.combinations(iterable, r)\n",
    "  抽取组合"
   ]
  },
  {
   "cell_type": "code",
   "execution_count": 15,
   "metadata": {
    "collapsed": false
   },
   "outputs": [
    {
     "data": {
      "text/plain": [
       "[('A', 'B'), ('A', 'C'), ('A', 'D'), ('B', 'C'), ('B', 'D'), ('C', 'D')]"
      ]
     },
     "execution_count": 15,
     "metadata": {},
     "output_type": "execute_result"
    }
   ],
   "source": [
    "def combinations(iterable, r):\n",
    "    # combinations('ABCD', 2) --> AB AC AD BC BD CD\n",
    "    # combinations(range(4), 3) --> 012 013 023 123\n",
    "    pool = tuple(iterable)\n",
    "    n = len(pool)\n",
    "    if r > n:\n",
    "        return\n",
    "    indices = list(range(r))\n",
    "    yield tuple(pool[i] for i in indices)\n",
    "    while True:\n",
    "        for i in reversed(range(r)):\n",
    "            if indices[i] != i + n - r:\n",
    "                break\n",
    "        else:\n",
    "            return\n",
    "        indices[i] += 1\n",
    "        for j in range(i+1, r):\n",
    "            indices[j] = indices[j-1] + 1\n",
    "        yield tuple(pool[i] for i in indices)\n",
    "        \n",
    "list(combinations('ABCD', 2))"
   ]
  },
  {
   "cell_type": "markdown",
   "metadata": {},
   "source": [
    "##### 3.3 itertools.combinations_with_replacement(iterable, r)"
   ]
  },
  {
   "cell_type": "code",
   "execution_count": 16,
   "metadata": {
    "collapsed": false
   },
   "outputs": [
    {
     "data": {
      "text/plain": [
       "[('A', 'A'), ('A', 'B'), ('A', 'C'), ('B', 'B'), ('B', 'C'), ('C', 'C')]"
      ]
     },
     "execution_count": 16,
     "metadata": {},
     "output_type": "execute_result"
    }
   ],
   "source": [
    "def combinations_with_replacement(iterable, r):\n",
    "    # combinations_with_replacement('ABC', 2) --> AA AB AC BB BC CC\n",
    "    pool = tuple(iterable)\n",
    "    n = len(pool)\n",
    "    if not n and r:\n",
    "        return\n",
    "    indices = [0] * r\n",
    "    yield tuple(pool[i] for i in indices)\n",
    "    while True:\n",
    "        for i in reversed(range(r)):\n",
    "            if indices[i] != n - 1:\n",
    "                break\n",
    "        else:\n",
    "            return\n",
    "        indices[i:] = [indices[i] + 1] * (r - i)\n",
    "        yield tuple(pool[i] for i in indices)\n",
    "        \n",
    "list(combinations_with_replacement('ABC', 2))"
   ]
  },
  {
   "cell_type": "markdown",
   "metadata": {},
   "source": [
    "**比较三种方法的结果**"
   ]
  },
  {
   "cell_type": "code",
   "execution_count": 19,
   "metadata": {
    "collapsed": false
   },
   "outputs": [
    {
     "name": "stdout",
     "output_type": "stream",
     "text": [
      "[('A', 'B'), ('A', 'C'), ('A', 'D'), ('B', 'A'), ('B', 'C'), ('B', 'D'), ('C', 'A'), ('C', 'B'), ('C', 'D'), ('D', 'A'), ('D', 'B'), ('D', 'C')]\n",
      "[('A', 'B'), ('A', 'C'), ('A', 'D'), ('B', 'C'), ('B', 'D'), ('C', 'D')]\n",
      "[('A', 'A'), ('A', 'B'), ('A', 'C'), ('A', 'D'), ('B', 'B'), ('B', 'C'), ('B', 'D'), ('C', 'C'), ('C', 'D'), ('D', 'D')]\n"
     ]
    }
   ],
   "source": [
    "from itertools import permutations,combinations,combinations_with_replacement\n",
    "\n",
    "#1 排列\n",
    "print(list(permutations('ABCD', 2)))\n",
    "#2 组合\n",
    "print(list(combinations('ABCD', 2)))\n",
    "#3 包含自己的组合\n",
    "print(list(combinations_with_replacement('ABCD', 2)))"
   ]
  },
  {
   "cell_type": "markdown",
   "metadata": {},
   "source": [
    "##### 3.4 itertools.product(*iterables, repeat=1)\n",
    "  循环乘积"
   ]
  },
  {
   "cell_type": "code",
   "execution_count": 17,
   "metadata": {
    "collapsed": false
   },
   "outputs": [
    {
     "data": {
      "text/plain": [
       "[('A', 'x'),\n",
       " ('A', 'y'),\n",
       " ('B', 'x'),\n",
       " ('B', 'y'),\n",
       " ('C', 'x'),\n",
       " ('C', 'y'),\n",
       " ('D', 'x'),\n",
       " ('D', 'y')]"
      ]
     },
     "execution_count": 17,
     "metadata": {},
     "output_type": "execute_result"
    }
   ],
   "source": [
    "def product(*args, repeat=1):\n",
    "    # product('ABCD', 'xy') --> Ax Ay Bx By Cx Cy Dx Dy\n",
    "    # product(range(2), repeat=3) --> 000 001 010 011 100 101 110 111\n",
    "    pools = [tuple(pool) for pool in args] * repeat\n",
    "    result = [[]]\n",
    "    for pool in pools:\n",
    "        result = [x+[y] for x in result for y in pool]\n",
    "    for prod in result:\n",
    "        yield tuple(prod)\n",
    "        \n",
    "list(product('ABCD', 'xy'))    "
   ]
  },
  {
   "cell_type": "markdown",
   "metadata": {},
   "source": [
    "---\n",
    "### 一些根据原始函数构造出来的有用的例子："
   ]
  },
  {
   "cell_type": "code",
   "execution_count": null,
   "metadata": {
    "collapsed": true
   },
   "outputs": [],
   "source": [
    "def take(n, iterable):\n",
    "    \"Return first n items of the iterable as a list\"\n",
    "    return list(islice(iterable, n))\n",
    "\n",
    "def prepend(value, iterator):\n",
    "    \"Prepend a single value in front of an iterator\"\n",
    "    # prepend(1, [2, 3, 4]) -> 1 2 3 4\n",
    "    return chain([value], iterator)\n",
    "\n",
    "def tabulate(function, start=0):\n",
    "    \"Return function(0), function(1), ...\"\n",
    "    return map(function, count(start))\n",
    "\n",
    "def tail(n, iterable):\n",
    "    \"Return an iterator over the last n items\"\n",
    "    # tail(3, 'ABCDEFG') --> E F G\n",
    "    return iter(collections.deque(iterable, maxlen=n))\n",
    "\n",
    "def consume(iterator, n=None):\n",
    "    \"Advance the iterator n-steps ahead. If n is None, consume entirely.\"\n",
    "    # Use functions that consume iterators at C speed.\n",
    "    if n is None:\n",
    "        # feed the entire iterator into a zero-length deque\n",
    "        collections.deque(iterator, maxlen=0)\n",
    "    else:\n",
    "        # advance to the empty slice starting at position n\n",
    "        next(islice(iterator, n, n), None)\n",
    "\n",
    "def nth(iterable, n, default=None):\n",
    "    \"Returns the nth item or a default value\"\n",
    "    return next(islice(iterable, n, None), default)\n",
    "\n",
    "def all_equal(iterable):\n",
    "    \"Returns True if all the elements are equal to each other\"\n",
    "    g = groupby(iterable)\n",
    "    return next(g, True) and not next(g, False)\n",
    "\n",
    "def quantify(iterable, pred=bool):\n",
    "    \"Count how many times the predicate is true\"\n",
    "    return sum(map(pred, iterable))\n",
    "\n",
    "def padnone(iterable):\n",
    "    \"\"\"Returns the sequence elements and then returns None indefinitely.\n",
    "\n",
    "    Useful for emulating the behavior of the built-in map() function.\n",
    "    \"\"\"\n",
    "    return chain(iterable, repeat(None))\n",
    "\n",
    "def ncycles(iterable, n):\n",
    "    \"Returns the sequence elements n times\"\n",
    "    return chain.from_iterable(repeat(tuple(iterable), n))\n",
    "\n",
    "def dotproduct(vec1, vec2):\n",
    "    return sum(map(operator.mul, vec1, vec2))\n",
    "\n",
    "def flatten(listOfLists):\n",
    "    \"Flatten one level of nesting\"\n",
    "    return chain.from_iterable(listOfLists)\n",
    "\n",
    "def repeatfunc(func, times=None, *args):\n",
    "    \"\"\"Repeat calls to func with specified arguments.\n",
    "\n",
    "    Example:  repeatfunc(random.random)\n",
    "    \"\"\"\n",
    "    if times is None:\n",
    "        return starmap(func, repeat(args))\n",
    "    return starmap(func, repeat(args, times))\n",
    "\n",
    "def pairwise(iterable):\n",
    "    \"s -> (s0,s1), (s1,s2), (s2, s3), ...\"\n",
    "    a, b = tee(iterable)\n",
    "    next(b, None)\n",
    "    return zip(a, b)\n",
    "\n",
    "def grouper(iterable, n, fillvalue=None):\n",
    "    \"Collect data into fixed-length chunks or blocks\"\n",
    "    # grouper('ABCDEFG', 3, 'x') --> ABC DEF Gxx\"\n",
    "    args = [iter(iterable)] * n\n",
    "    return zip_longest(*args, fillvalue=fillvalue)\n",
    "\n",
    "def roundrobin(*iterables):\n",
    "    \"roundrobin('ABC', 'D', 'EF') --> A D E B F C\"\n",
    "    # Recipe credited to George Sakkis\n",
    "    num_active = len(iterables)\n",
    "    nexts = cycle(iter(it).__next__ for it in iterables)\n",
    "    while num_active:\n",
    "        try:\n",
    "            for next in nexts:\n",
    "                yield next()\n",
    "        except StopIteration:\n",
    "            # Remove the iterator we just exhausted from the cycle.\n",
    "            num_active -= 1\n",
    "            nexts = cycle(islice(nexts, num_active))\n",
    "\n",
    "def partition(pred, iterable):\n",
    "    'Use a predicate to partition entries into false entries and true entries'\n",
    "    # partition(is_odd, range(10)) --> 0 2 4 6 8   and  1 3 5 7 9\n",
    "    t1, t2 = tee(iterable)\n",
    "    return filterfalse(pred, t1), filter(pred, t2)\n",
    "\n",
    "def powerset(iterable):\n",
    "    \"powerset([1,2,3]) --> () (1,) (2,) (3,) (1,2) (1,3) (2,3) (1,2,3)\"\n",
    "    s = list(iterable)\n",
    "    return chain.from_iterable(combinations(s, r) for r in range(len(s)+1))\n",
    "\n",
    "def unique_everseen(iterable, key=None):\n",
    "    \"List unique elements, preserving order. Remember all elements ever seen.\"\n",
    "    # unique_everseen('AAAABBBCCDAABBB') --> A B C D\n",
    "    # unique_everseen('ABBCcAD', str.lower) --> A B C D\n",
    "    seen = set()\n",
    "    seen_add = seen.add\n",
    "    if key is None:\n",
    "        for element in filterfalse(seen.__contains__, iterable):\n",
    "            seen_add(element)\n",
    "            yield element\n",
    "    else:\n",
    "        for element in iterable:\n",
    "            k = key(element)\n",
    "            if k not in seen:\n",
    "                seen_add(k)\n",
    "                yield element\n",
    "\n",
    "def unique_justseen(iterable, key=None):\n",
    "    \"List unique elements, preserving order. Remember only the element just seen.\"\n",
    "    # unique_justseen('AAAABBBCCDAABBB') --> A B C D A B\n",
    "    # unique_justseen('ABBCcAD', str.lower) --> A B C A D\n",
    "    return map(next, map(itemgetter(1), groupby(iterable, key)))\n",
    "\n",
    "def iter_except(func, exception, first=None):\n",
    "    \"\"\" Call a function repeatedly until an exception is raised.\n",
    "\n",
    "    Converts a call-until-exception interface to an iterator interface.\n",
    "    Like builtins.iter(func, sentinel) but uses an exception instead\n",
    "    of a sentinel to end the loop.\n",
    "\n",
    "    Examples:\n",
    "        iter_except(functools.partial(heappop, h), IndexError)   # priority queue iterator\n",
    "        iter_except(d.popitem, KeyError)                         # non-blocking dict iterator\n",
    "        iter_except(d.popleft, IndexError)                       # non-blocking deque iterator\n",
    "        iter_except(q.get_nowait, Queue.Empty)                   # loop over a producer Queue\n",
    "        iter_except(s.pop, KeyError)                             # non-blocking set iterator\n",
    "\n",
    "    \"\"\"\n",
    "    try:\n",
    "        if first is not None:\n",
    "            yield first()            # For database APIs needing an initial cast to db.first()\n",
    "        while True:\n",
    "            yield func()\n",
    "    except exception:\n",
    "        pass\n",
    "\n",
    "def first_true(iterable, default=False, pred=None):\n",
    "    \"\"\"Returns the first true value in the iterable.\n",
    "\n",
    "    If no true value is found, returns *default*\n",
    "\n",
    "    If *pred* is not None, returns the first item\n",
    "    for which pred(item) is true.\n",
    "\n",
    "    \"\"\"\n",
    "    # first_true([a,b,c], x) --> a or b or c or x\n",
    "    # first_true([a,b], x, f) --> a if f(a) else b if f(b) else x\n",
    "    return next(filter(pred, iterable), default)\n",
    "\n",
    "def random_product(*args, repeat=1):\n",
    "    \"Random selection from itertools.product(*args, **kwds)\"\n",
    "    pools = [tuple(pool) for pool in args] * repeat\n",
    "    return tuple(random.choice(pool) for pool in pools)\n",
    "\n",
    "def random_permutation(iterable, r=None):\n",
    "    \"Random selection from itertools.permutations(iterable, r)\"\n",
    "    pool = tuple(iterable)\n",
    "    r = len(pool) if r is None else r\n",
    "    return tuple(random.sample(pool, r))\n",
    "\n",
    "def random_combination(iterable, r):\n",
    "    \"Random selection from itertools.combinations(iterable, r)\"\n",
    "    pool = tuple(iterable)\n",
    "    n = len(pool)\n",
    "    indices = sorted(random.sample(range(n), r))\n",
    "    return tuple(pool[i] for i in indices)\n",
    "\n",
    "def random_combination_with_replacement(iterable, r):\n",
    "    \"Random selection from itertools.combinations_with_replacement(iterable, r)\"\n",
    "    pool = tuple(iterable)\n",
    "    n = len(pool)\n",
    "    indices = sorted(random.randrange(n) for i in range(r))\n",
    "    return tuple(pool[i] for i in indices)\n",
    "\n",
    "def nth_combination(iterable, r, index):\n",
    "    'Equivalent to list(combinations(iterable, r))[index]'\n",
    "    pool = tuple(iterable)\n",
    "    n = len(pool)\n",
    "    if r < 0 or r > n:\n",
    "        raise ValueError\n",
    "    c = 1\n",
    "    k = min(r, n-r)\n",
    "    for i in range(1, k+1):\n",
    "        c = c * (n - k + i) // i\n",
    "    if index < 0:\n",
    "        index += c\n",
    "    if index < 0 or index >= c:\n",
    "        raise IndexError\n",
    "    result = []\n",
    "    while r:\n",
    "        c, n, r = c*r//n, n-1, r-1\n",
    "        while index >= c:\n",
    "            index -= c\n",
    "            c, n = c*(n-r)//n, n-1\n",
    "        result.append(pool[-1-n])\n",
    "    return tuple(result)"
   ]
  }
 ],
 "metadata": {
  "kernelspec": {
   "display_name": "Python 3",
   "language": "python",
   "name": "python3"
  },
  "language_info": {
   "codemirror_mode": {
    "name": "ipython",
    "version": 3
   },
   "file_extension": ".py",
   "mimetype": "text/x-python",
   "name": "python",
   "nbconvert_exporter": "python",
   "pygments_lexer": "ipython3",
   "version": "3.6.0"
  }
 },
 "nbformat": 4,
 "nbformat_minor": 2
}
