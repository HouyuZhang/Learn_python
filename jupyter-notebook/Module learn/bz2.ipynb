{
 "cells": [
  {
   "cell_type": "markdown",
   "metadata": {},
   "source": [
    "## bz2\n",
    "> bzip2比传统的gzip或者ZIP的压缩效率更高，但是它的压缩速度较慢。从这点来说，它非常类似于出现的其它一些压缩算法。与RAR或者ZIP等其它不同的是，bzip2只是一个数据压缩工具，而不是归档工具，在这一点上它与gzip类似。程序本身不包含用于多个文件、加密或者文档切分的工具，相反按照UNIX的传统需要使用如tar或者GnuPG这样的外部工具。  \n",
    "在有些情况下，按照绝对压缩效率来讲bzip2不如7z和RAR格式。根据摩尔定律的持续效应，计算时间越来越少并且也变得越来越不重要，所以类似的压缩方法变得越来越流行。根据作者的说法，在所有已知的压缩算法中，bzip2可以排到百分之十到十五这样最好的一类算法中（PPM），尽管它在压缩速度时大致快两倍，而解压速度有六倍快。    \n",
    "bzip2使用Burrows-Wheeler transform将重复出现的字符序列转换成同样字母的字符串，然后用move-to-front transform进行处理，最后使用哈夫曼编码进行压缩。在bzip2中所有的数据块都是大小一样的纯文本数据块，它们可以用命令行变量进行选择，然后用从π的十进制表示得到的一个任意位序列标识成压缩文本。\n",
    "起初，bzip2的前一代bzip在数据块排列之后使用算术编码进行压缩，由于软件专利的限制已经不再使用算术编码。  \n",
    "\n",
    "---"
   ]
  },
  {
   "cell_type": "code",
   "execution_count": null,
   "metadata": {
    "collapsed": true
   },
   "outputs": [],
   "source": [
    "f = bz2.open(filename, 'rt')"
   ]
  }
 ],
 "metadata": {
  "kernelspec": {
   "display_name": "Python 3",
   "language": "python",
   "name": "python3"
  },
  "language_info": {
   "codemirror_mode": {
    "name": "ipython",
    "version": 3
   },
   "file_extension": ".py",
   "mimetype": "text/x-python",
   "name": "python",
   "nbconvert_exporter": "python",
   "pygments_lexer": "ipython3",
   "version": "3.6.0"
  }
 },
 "nbformat": 4,
 "nbformat_minor": 2
}
