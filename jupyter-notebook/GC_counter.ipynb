{
 "cells": [
  {
   "cell_type": "code",
   "execution_count": 14,
   "metadata": {
    "collapsed": false
   },
   "outputs": [
    {
     "name": "stdout",
     "output_type": "stream",
     "text": [
      "63148\n",
      "KZ115763.1 ('GCA_000002035.4_GRCz11_genomic.fa', 0.3673813686696727)\n"
     ]
    }
   ],
   "source": [
    "import sys\n",
    "from Bio import SeqIO\n",
    "parser = SeqIO.parse(\"GCA_000002035.4_GRCz11_genomic.fa\", \"fasta\")\n",
    "\n",
    "for record in parser:\n",
    "    a = 0\n",
    "    t = 0\n",
    "    c = 0\n",
    "    g = 0\n",
    "    for x in str(record.seq).upper():\n",
    "        if \"A\" in x:\n",
    "            a+=1\n",
    "        elif \"T\" in x:\n",
    "            t+=1\n",
    "        elif \"C\" in x:\n",
    "            c+=1\n",
    "        elif \"G\" in x:\n",
    "            g+=1\n",
    "    gc_content = float(g+c)/float(a+t+g+c)\n",
    "    print (record.id, (\"GCA_000002035.4_GRCz11_genomic.fa\",gc_content))\n"
   ]
  },
  {
   "cell_type": "code",
   "execution_count": null,
   "metadata": {
    "collapsed": true
   },
   "outputs": [],
   "source": []
  },
  {
   "cell_type": "code",
   "execution_count": null,
   "metadata": {
    "collapsed": true
   },
   "outputs": [],
   "source": []
  }
 ],
 "metadata": {
  "kernelspec": {
   "display_name": "Python 3",
   "language": "python",
   "name": "python3"
  },
  "language_info": {
   "codemirror_mode": {
    "name": "ipython",
    "version": 3
   },
   "file_extension": ".py",
   "mimetype": "text/x-python",
   "name": "python",
   "nbconvert_exporter": "python",
   "pygments_lexer": "ipython3",
   "version": "3.6.0"
  }
 },
 "nbformat": 4,
 "nbformat_minor": 2
}
